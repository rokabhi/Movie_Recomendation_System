{
  "cells": [
    {
      "cell_type": "code",
      "execution_count": null,
      "metadata": {
        "id": "j3E91YMKxuyR"
      },
      "outputs": [],
      "source": [
        "import pandas as pd\n",
        "import numpy as np\n",
        "import matplotlib.pyplot as plt"
      ]
    },
    {
      "cell_type": "code",
      "execution_count": null,
      "metadata": {
        "id": "ILvtDwqdyLS1"
      },
      "outputs": [],
      "source": [
        "movies=pd.read_csv(\"/content/drive/MyDrive/adverk/datasets/tmdb_5000_movies.csv\")\n",
        "credits=pd.read_csv(\"/content/drive/MyDrive/adverk/datasets/tmdb_5000_credits.csv\")"
      ]
    },
    {
      "cell_type": "code",
      "execution_count": null,
      "metadata": {
        "id": "TQFS8ciLE48W"
      },
      "outputs": [],
      "source": [
        "from google.colab import drive\n",
        "drive.mount('/content/drive')"
      ]
    },
    {
      "cell_type": "code",
      "execution_count": null,
      "metadata": {
        "id": "G4E-JcILyS8D"
      },
      "outputs": [],
      "source": [
        "movies.head(1)"
      ]
    },
    {
      "cell_type": "code",
      "execution_count": null,
      "metadata": {
        "id": "KTybojW11bSn"
      },
      "outputs": [],
      "source": [
        "movies.shape"
      ]
    },
    {
      "cell_type": "code",
      "execution_count": null,
      "metadata": {
        "id": "i3gwt1oN1t1z"
      },
      "outputs": [],
      "source": [
        "credits.head(1)"
      ]
    },
    {
      "cell_type": "code",
      "execution_count": null,
      "metadata": {
        "id": "rY9WNyn71y6z"
      },
      "outputs": [],
      "source": [
        "credits.shape"
      ]
    },
    {
      "cell_type": "code",
      "execution_count": null,
      "metadata": {
        "id": "ivTw7KJV17P7"
      },
      "outputs": [],
      "source": [
        "movies=movies.merge(credits,left_on=\"id\",right_on=\"movie_id\")"
      ]
    },
    {
      "cell_type": "code",
      "execution_count": null,
      "metadata": {
        "id": "zJQAg5642VGo"
      },
      "outputs": [],
      "source": [
        "movies.shape"
      ]
    },
    {
      "cell_type": "code",
      "execution_count": null,
      "metadata": {
        "id": "8p71KGki2b8V"
      },
      "outputs": [],
      "source": [
        "movies.head(1)"
      ]
    },
    {
      "cell_type": "code",
      "execution_count": null,
      "metadata": {
        "id": "0j-dhXbC2e_S"
      },
      "outputs": [],
      "source": [
        "movies.columns"
      ]
    },
    {
      "cell_type": "code",
      "execution_count": null,
      "metadata": {
        "id": "eLMdLt5J2orC"
      },
      "outputs": [],
      "source": [
        "# genres,id,keywords,title_x,overview,cast,crew"
      ]
    },
    {
      "cell_type": "code",
      "execution_count": null,
      "metadata": {
        "id": "ddLxiSt83MRj"
      },
      "outputs": [],
      "source": [
        "movies=movies[['movie_id','title_x','overview','genres','keywords','cast','crew']]"
      ]
    },
    {
      "cell_type": "code",
      "execution_count": null,
      "metadata": {
        "id": "u-ulbZWL3bGv"
      },
      "outputs": [],
      "source": [
        "movies.shape"
      ]
    },
    {
      "cell_type": "code",
      "execution_count": null,
      "metadata": {
        "id": "CKEzplJK3iAf"
      },
      "outputs": [],
      "source": [
        "movies.head(1)"
      ]
    },
    {
      "cell_type": "code",
      "execution_count": null,
      "metadata": {
        "id": "8170RmFp4CUU"
      },
      "outputs": [],
      "source": [
        "movies.rename(columns={'title_x':'title'},inplace=True)"
      ]
    },
    {
      "cell_type": "code",
      "execution_count": null,
      "metadata": {
        "id": "NwUxdIcw4H5_"
      },
      "outputs": [],
      "source": [
        "movies.head(1)"
      ]
    },
    {
      "cell_type": "code",
      "execution_count": null,
      "metadata": {
        "id": "OAubH8Lr4JIT"
      },
      "outputs": [],
      "source": [
        "movies.isnull().sum()"
      ]
    },
    {
      "cell_type": "code",
      "execution_count": null,
      "metadata": {
        "id": "6X7rpbYr4NK5"
      },
      "outputs": [],
      "source": [
        "movies.dropna(inplace=True)"
      ]
    },
    {
      "cell_type": "code",
      "execution_count": null,
      "metadata": {
        "id": "EsKV2unO4TJ7"
      },
      "outputs": [],
      "source": [
        "movies.shape"
      ]
    },
    {
      "cell_type": "code",
      "execution_count": null,
      "metadata": {
        "id": "0dwwtmHX4Tyv"
      },
      "outputs": [],
      "source": [
        "movies.isnull().sum()"
      ]
    },
    {
      "cell_type": "code",
      "execution_count": null,
      "metadata": {
        "id": "0YKzXegL4WSV"
      },
      "outputs": [],
      "source": [
        "movies.duplicated().sum()"
      ]
    },
    {
      "cell_type": "code",
      "execution_count": null,
      "metadata": {
        "id": "At5mr6mn8RO6"
      },
      "outputs": [],
      "source": [
        "movies['genres']"
      ]
    },
    {
      "cell_type": "code",
      "execution_count": null,
      "metadata": {
        "id": "YExvQZt94Zi7"
      },
      "outputs": [],
      "source": [
        "movies.sample()"
      ]
    },
    {
      "cell_type": "code",
      "execution_count": null,
      "metadata": {
        "id": "agNSdwjQ50hh"
      },
      "outputs": [],
      "source": [
        "a=movies.iloc[1918].genres\n",
        "a"
      ]
    },
    {
      "cell_type": "code",
      "execution_count": null,
      "metadata": {
        "id": "z1RcJCu67NCb"
      },
      "outputs": [],
      "source": [
        "type(a)"
      ]
    },
    {
      "cell_type": "code",
      "execution_count": null,
      "metadata": {
        "id": "4wMJ1UbE9csx"
      },
      "outputs": [],
      "source": [
        "x={\"id\": 28, \"name\": \"Action\"}"
      ]
    },
    {
      "cell_type": "code",
      "execution_count": null,
      "metadata": {
        "id": "HW8Ufxqr9eLG"
      },
      "outputs": [],
      "source": [
        "x['id']"
      ]
    },
    {
      "cell_type": "code",
      "execution_count": null,
      "metadata": {
        "id": "N5Sor9--7dHo"
      },
      "outputs": [],
      "source": [
        "#ast.literal_eval(\"{'a':'b','c':'d','e':'f'}\")"
      ]
    },
    {
      "cell_type": "code",
      "execution_count": null,
      "metadata": {
        "id": "3d-acHoO-uUN"
      },
      "outputs": [],
      "source": [
        "ast.literal_eval(\"[2,4,6,7]\")"
      ]
    },
    {
      "cell_type": "code",
      "execution_count": null,
      "metadata": {
        "id": "yFYUG65r56sk"
      },
      "outputs": [],
      "source": [
        "import ast\n",
        "def convert(obj):\n",
        "  L=[]\n",
        "  for i in ast.literal_eval(obj):\n",
        "    L.append(i['name'])\n",
        "  return L"
      ]
    },
    {
      "cell_type": "code",
      "execution_count": null,
      "metadata": {
        "id": "1DM7u5-r6gXH"
      },
      "outputs": [],
      "source": [
        "convert('[{\"id\": 28, \"name\": \"Action\"}, {\"id\": 12, \"name\": \"Adventure\"}, {\"id\": 35, \"name\": \"Comedy\"}, {\"id\": 14, \"name\": \"Fantasy\"}]')"
      ]
    },
    {
      "cell_type": "code",
      "execution_count": null,
      "metadata": {
        "id": "kY1LNGZT6jhb"
      },
      "outputs": [],
      "source": [
        "movies['genres']=movies['genres'].apply(convert)"
      ]
    },
    {
      "cell_type": "code",
      "execution_count": null,
      "metadata": {
        "id": "UDSB1jEd-WPX"
      },
      "outputs": [],
      "source": [
        "movies['genres']"
      ]
    },
    {
      "cell_type": "code",
      "execution_count": null,
      "metadata": {
        "id": "s_th6sZt8QAH"
      },
      "outputs": [],
      "source": [
        "movies.head(3)"
      ]
    },
    {
      "cell_type": "code",
      "execution_count": null,
      "metadata": {
        "id": "b1wb6WVt8iP6"
      },
      "outputs": [],
      "source": [
        "movies.iloc[0].keywords"
      ]
    },
    {
      "cell_type": "code",
      "execution_count": null,
      "metadata": {
        "id": "1VGCkaydCFqH"
      },
      "outputs": [],
      "source": [
        "movies['keywords']=movies['keywords'].apply(convert)"
      ]
    },
    {
      "cell_type": "code",
      "execution_count": null,
      "metadata": {
        "id": "psg5_RbCCNfk"
      },
      "outputs": [],
      "source": [
        "movies.sample(4)"
      ]
    },
    {
      "cell_type": "code",
      "execution_count": null,
      "metadata": {
        "id": "-1pl1KNtCPuc"
      },
      "outputs": [],
      "source": [
        "movies.iloc[1].cast"
      ]
    },
    {
      "cell_type": "code",
      "execution_count": null,
      "metadata": {
        "id": "_8haVJYxCYqd"
      },
      "outputs": [],
      "source": [
        "def convert3(obj):\n",
        "  L=[]\n",
        "  counter=0\n",
        "  for i in ast.literal_eval(obj):\n",
        "    if counter !=3:\n",
        "      L.append(i['name'])\n",
        "      counter+=1\n",
        "    else:\n",
        "      break\n",
        "  return L"
      ]
    },
    {
      "cell_type": "code",
      "execution_count": null,
      "metadata": {
        "id": "h9bEZmf8DO11"
      },
      "outputs": [],
      "source": [
        "movies['cast']=movies['cast'].apply(convert3)"
      ]
    },
    {
      "cell_type": "code",
      "execution_count": null,
      "metadata": {
        "id": "1MEY-WZEDXfC"
      },
      "outputs": [],
      "source": [
        "movies['crew'][0]"
      ]
    },
    {
      "cell_type": "code",
      "execution_count": null,
      "metadata": {
        "id": "8eiGtJbIDnhA"
      },
      "outputs": [],
      "source": [
        "def fetch_director(obj):\n",
        "  L=[]\n",
        "  for i in ast.literal_eval(obj):\n",
        "    if i['job']==\"Director\":\n",
        "      L.append(i['name'])\n",
        "      break\n",
        "  return L"
      ]
    },
    {
      "cell_type": "code",
      "execution_count": null,
      "metadata": {
        "id": "5INuHaKJEhk5"
      },
      "outputs": [],
      "source": [
        "movies['crew']=movies['crew'].apply(fetch_director)"
      ]
    },
    {
      "cell_type": "code",
      "execution_count": null,
      "metadata": {
        "id": "EuwA_XyLEmAT"
      },
      "outputs": [],
      "source": [
        "movies.head(10)"
      ]
    },
    {
      "cell_type": "code",
      "execution_count": null,
      "metadata": {
        "id": "xxlEk6crEvB5"
      },
      "outputs": [],
      "source": [
        "movies['genres']=movies['genres'].apply(lambda x:[i.replace(\" \",\"\")for i in x])\n",
        "movies['keywords']=movies['keywords'].apply(lambda x:[i.replace(\" \",\"\")for i in x])\n",
        "movies['cast']=movies['cast'].apply(lambda x:[i.replace(\" \",\"\")for i in x])\n",
        "movies['crew']=movies['crew'].apply(lambda x:[i.replace(\" \",\"\")for i in x])"
      ]
    },
    {
      "cell_type": "code",
      "execution_count": null,
      "metadata": {
        "id": "ej2x8r2FHqoI"
      },
      "outputs": [],
      "source": [
        "movies.head(10)"
      ]
    },
    {
      "cell_type": "code",
      "execution_count": null,
      "metadata": {
        "id": "cbzHpeLAJJxx"
      },
      "outputs": [],
      "source": [
        "movies['overview']=movies['overview'].apply(lambda x:x.split())"
      ]
    },
    {
      "cell_type": "code",
      "execution_count": null,
      "metadata": {
        "id": "0wF_uqqtJSvo"
      },
      "outputs": [],
      "source": [
        "movies.head(3)"
      ]
    },
    {
      "cell_type": "code",
      "execution_count": null,
      "metadata": {
        "id": "_6wmRiqVH6Up"
      },
      "outputs": [],
      "source": [
        "movies['tags']=movies['overview']+movies['genres']+movies['keywords']+movies['cast']+movies['crew']"
      ]
    },
    {
      "cell_type": "code",
      "execution_count": null,
      "metadata": {
        "id": "dSrPWXVZJDxX"
      },
      "outputs": [],
      "source": [
        "movies.sample()"
      ]
    },
    {
      "cell_type": "code",
      "execution_count": null,
      "metadata": {
        "id": "4JIv5ZtkJZy6"
      },
      "outputs": [],
      "source": [
        "new_df=movies[['movie_id','title','tags']]"
      ]
    },
    {
      "cell_type": "code",
      "execution_count": null,
      "metadata": {
        "id": "m56ospgSJijx"
      },
      "outputs": [],
      "source": [
        "new_df.head()"
      ]
    },
    {
      "cell_type": "code",
      "execution_count": null,
      "metadata": {
        "id": "4SrISNGMJkBD"
      },
      "outputs": [],
      "source": [
        "new_df['tags']=new_df['tags'].apply(lambda x:\" \".join(x))"
      ]
    },
    {
      "cell_type": "code",
      "execution_count": null,
      "metadata": {
        "id": "_MNTLYgDKT06"
      },
      "outputs": [],
      "source": [
        "new_df.head()"
      ]
    },
    {
      "cell_type": "code",
      "execution_count": null,
      "metadata": {
        "id": "zefIQdaIKZr0"
      },
      "outputs": [],
      "source": [
        "new_df['tags'][8]"
      ]
    },
    {
      "cell_type": "code",
      "execution_count": null,
      "metadata": {
        "id": "2ewRsr-qKgI_"
      },
      "outputs": [],
      "source": [
        "from sklearn.feature_extraction.text import CountVectorizer"
      ]
    },
    {
      "cell_type": "code",
      "execution_count": null,
      "metadata": {
        "id": "1fS27XDeZa-W"
      },
      "outputs": [],
      "source": [
        "s=['Congrats. You have won a lottery and you can get lottery amount by calling the lottery number',\n",
        "   'Give your bank account details for lottery amount to be credited to your bank account',\n",
        "   'lottery for sure if the bank account details are verified']"
      ]
    },
    {
      "cell_type": "code",
      "execution_count": null,
      "metadata": {
        "id": "a58wX6eZZdh9"
      },
      "outputs": [],
      "source": [
        "s[0].split()  # Tokenization"
      ]
    },
    {
      "cell_type": "code",
      "execution_count": null,
      "metadata": {
        "id": "QxyVqHEnZgVV"
      },
      "outputs": [],
      "source": [
        "s[1].split()"
      ]
    },
    {
      "cell_type": "code",
      "execution_count": null,
      "metadata": {
        "id": "4h_7458dZjHG"
      },
      "outputs": [],
      "source": [
        "s[2].split()"
      ]
    },
    {
      "cell_type": "code",
      "execution_count": null,
      "metadata": {
        "id": "MVtMxJSjZlmT"
      },
      "outputs": [],
      "source": [
        "vect=CountVectorizer()\n",
        "op=vect.fit_transform(s).toarray()\n",
        "op"
      ]
    },
    {
      "cell_type": "code",
      "execution_count": null,
      "metadata": {
        "id": "6wQUBl2rZnqP"
      },
      "outputs": [],
      "source": [
        "vect.get_feature_names_out()"
      ]
    },
    {
      "cell_type": "code",
      "execution_count": null,
      "metadata": {
        "id": "ZY0LJ_p1ZqJW"
      },
      "outputs": [],
      "source": [
        "import pandas as pd\n",
        "pd.DataFrame(op,columns=vect.get_feature_names_out(),index=['s[1]','s[2]','s[3]'])"
      ]
    },
    {
      "cell_type": "code",
      "execution_count": null,
      "metadata": {
        "id": "EyUmtxd_ZshW"
      },
      "outputs": [],
      "source": [
        "# stop_words\n",
        "# Stop words are the words in a stop list which are filtered out before or after processing of natural language data because they are insignificant.\n",
        "# Stopwords are the English words which does not add much meaning to a sentence. They can safely be ignored without sacrificing the meaning of the sentence."
      ]
    },
    {
      "cell_type": "code",
      "execution_count": null,
      "metadata": {
        "id": "27YHolwUZ1tM"
      },
      "outputs": [],
      "source": [
        "vect=CountVectorizer(stop_words='english')\n",
        "op=vect.fit_transform(s).toarray()\n",
        "pd.DataFrame(op,columns=vect.get_feature_names_out(),index=['s[1]','s[2]','s[3]'])"
      ]
    },
    {
      "cell_type": "code",
      "execution_count": null,
      "metadata": {
        "id": "GvVe9NfvZ7X0"
      },
      "outputs": [],
      "source": [
        "from sklearn.feature_extraction.text import CountVectorizer\n",
        "cv=CountVectorizer(stop_words='english',max_features=5000)"
      ]
    },
    {
      "cell_type": "code",
      "execution_count": null,
      "metadata": {
        "id": "2-rGYEwpZ-So"
      },
      "outputs": [],
      "source": [
        "vectors=cv.fit_transform(new_df['tags']).toarray()"
      ]
    },
    {
      "cell_type": "code",
      "execution_count": null,
      "metadata": {
        "id": "xNwu0k2FaAZw"
      },
      "outputs": [],
      "source": [
        "vectors"
      ]
    },
    {
      "cell_type": "code",
      "execution_count": null,
      "metadata": {
        "id": "_Vs8aUOrakjs"
      },
      "outputs": [],
      "source": [
        "cv.get_feature_names_out()[0:200]"
      ]
    },
    {
      "cell_type": "code",
      "execution_count": null,
      "metadata": {
        "id": "68INqY1JamSs"
      },
      "outputs": [],
      "source": [
        "# Stemming\n",
        "# stemming is the process of reducing inflected words to their root word\n",
        "# Stemming is a natural language processing technique that is used to reduce words to their base form, also known as the root form\n"
      ]
    },
    {
      "cell_type": "code",
      "execution_count": null,
      "metadata": {
        "id": "zoB9-r7oao-c"
      },
      "outputs": [],
      "source": [
        "from nltk.stem.porter import PorterStemmer\n",
        "ps=PorterStemmer()"
      ]
    },
    {
      "cell_type": "code",
      "execution_count": null,
      "metadata": {
        "id": "e_ZN2ha2ioaU"
      },
      "outputs": [],
      "source": [
        "def stemming(text):\n",
        "  y=[]\n",
        "  for i in text.split():\n",
        "    y.append(ps.stem(i))\n",
        "  return \" \".join(y)"
      ]
    },
    {
      "cell_type": "code",
      "execution_count": null,
      "metadata": {
        "id": "ib1og-x3i2Ux"
      },
      "outputs": [],
      "source": [
        "def stemming(text):\n",
        "  y=[]\n",
        "  for i in text.split():\n",
        "    y.append(ps.stem(i))\n",
        "  return \" \".join(y)"
      ]
    },
    {
      "cell_type": "code",
      "execution_count": null,
      "metadata": {
        "id": "z7sUjvdFOc6Z"
      },
      "outputs": [],
      "source": [
        "stemming(\"dancing dance dances danced\")"
      ]
    },
    {
      "cell_type": "code",
      "execution_count": null,
      "metadata": {
        "id": "Tqr1NagsOgKM"
      },
      "outputs": [],
      "source": [
        "# Lemmatization\n",
        "import nltk\n",
        "nltk.download('wordnet')"
      ]
    },
    {
      "cell_type": "code",
      "execution_count": null,
      "metadata": {
        "id": "6_6m1NNoOniI"
      },
      "outputs": [],
      "source": [
        "from nltk.stem import WordNetLemmatizer\n",
        "lm=WordNetLemmatizer()"
      ]
    },
    {
      "cell_type": "code",
      "execution_count": null,
      "metadata": {
        "id": "fB277CNFOvet"
      },
      "outputs": [],
      "source": [
        "lm.lemmatize(\"walking\",pos='v')"
      ]
    },
    {
      "cell_type": "code",
      "execution_count": null,
      "metadata": {
        "id": "y_QyOZrrPDQg"
      },
      "outputs": [],
      "source": [
        "new_df['tags']=new_df['tags'].apply(stemming)"
      ]
    },
    {
      "cell_type": "code",
      "execution_count": null,
      "metadata": {
        "id": "G2ZCnwyDi7XR"
      },
      "outputs": [],
      "source": [
        "vectors=cv.fit_transform(new_df['tags'])"
      ]
    },
    {
      "cell_type": "code",
      "execution_count": null,
      "metadata": {
        "id": "J0_wB-fFi_z0"
      },
      "outputs": [],
      "source": [
        "cv.get_feature_names_out()[0:200]"
      ]
    },
    {
      "cell_type": "code",
      "execution_count": null,
      "metadata": {
        "id": "MuZyjP-JjFf-"
      },
      "outputs": [],
      "source": [
        "# cosine similarity"
      ]
    },
    {
      "cell_type": "code",
      "execution_count": null,
      "metadata": {
        "id": "JGOvGZBFnJmd"
      },
      "outputs": [],
      "source": [
        "from sklearn.metrics.pairwise import cosine_similarity"
      ]
    },
    {
      "cell_type": "code",
      "execution_count": null,
      "metadata": {
        "id": "wepbmPVynNPr"
      },
      "outputs": [],
      "source": [
        "similarity=cosine_similarity(vectors)"
      ]
    },
    {
      "cell_type": "code",
      "execution_count": null,
      "metadata": {
        "id": "q_1w2Q_6nPTi"
      },
      "outputs": [],
      "source": [
        "similarity.shape"
      ]
    },
    {
      "cell_type": "code",
      "execution_count": null,
      "metadata": {
        "id": "l5FftJdWnSqh"
      },
      "outputs": [],
      "source": [
        "similarity"
      ]
    },
    {
      "cell_type": "code",
      "execution_count": null,
      "metadata": {
        "id": "CM2YQpaHnUdT"
      },
      "outputs": [],
      "source": [
        "sorted(list(enumerate(similarity[ 0])),key=lambda x:x[1],reverse=True)[1:11]"
      ]
    },
    {
      "cell_type": "code",
      "execution_count": null,
      "metadata": {
        "id": "Uvc3d8UKnXZq"
      },
      "outputs": [],
      "source": [
        "def recommend(movie):\n",
        "  index=new_df[new_df['title']==movie].index[0]\n",
        "  distances=sorted(list(enumerate(similarity[index])),key=lambda x:x[1],reverse=True)\n",
        "  for i in distances[1:11]:\n",
        "    print(new_df.iloc[i[0]].title)"
      ]
    },
    {
      "cell_type": "code",
      "execution_count": null,
      "metadata": {
        "id": "h40Rtq_qpR8V"
      },
      "outputs": [],
      "source": [
        "new_df[new_df['title']==\"Alice in Wonderland\"].index[0]"
      ]
    },
    {
      "cell_type": "code",
      "execution_count": null,
      "metadata": {
        "id": "MxTBnpH-pUEU"
      },
      "outputs": [],
      "source": [
        "recommend(\"Iron Man\")"
      ]
    },
    {
      "cell_type": "code",
      "execution_count": null,
      "metadata": {
        "id": "9S10o1aqpYIk"
      },
      "outputs": [],
      "source": [
        "!pip install streamlit --quiet"
      ]
    },
    {
      "cell_type": "code",
      "execution_count": null,
      "metadata": {
        "id": "gmLU26EZSyNF"
      },
      "outputs": [],
      "source": [
        "import pickle\n"
      ]
    },
    {
      "cell_type": "code",
      "execution_count": null,
      "metadata": {
        "id": "D7p5c9x_TDjV"
      },
      "outputs": [],
      "source": [
        "pickle.dump(new_df,open('movie_list.pkl','wb'))\n",
        "pickle.dump(similarity,open('similarity.pkl','wb'))"
      ]
    },
    {
      "cell_type": "code",
      "execution_count": null,
      "metadata": {
        "id": "dz6wXK0YTeY8"
      },
      "outputs": [],
      "source": [
        "%%writefile app.py\n",
        "import streamlit as st\n",
        "import pickle\n",
        "import requests\n",
        "\n",
        "movies=pickle.load(open('movie_list.pkl','rb'))\n",
        "similarity=pickle.load(open('similarity.pkl','rb'))\n",
        "\n",
        "def recommend(movie):\n",
        "  index=movies[movies['title']==movie].index[0]\n",
        "  distances=sorted(list(enumerate(similarity[index])),key=lambda x:x[1],reverse=True)\n",
        "  recommended_movie_names=[]\n",
        "  for i in distances[1:11]:\n",
        "    recommended_movie_names.append(movies.iloc[i[0]].title)\n",
        "  return recommended_movie_names\n",
        "\n",
        "st.header(\"Movie Recommender System\")\n",
        "movie_list=movies['title'].values\n",
        "selected_movie=st.selectbox(\"Type or select a movie from the list\",movie_list)\n",
        "\n",
        "if st.button(\"Show Recommendations\"):\n",
        "  recommended_movie_names=recommend(selected_movie)\n",
        "  c1,c2,c3=st.columns(3)\n",
        "  with c1:\n",
        "    st.text(recommended_movie_names[0])\n",
        "  with c2:\n",
        "    st.text(recommended_movie_names[1])\n",
        "  with c3:\n",
        "    st.text(recommended_movie_names[2])\n"
      ]
    },
    {
      "cell_type": "code",
      "execution_count": null,
      "metadata": {
        "id": "9N8nKPHuVm9k",
        "colab": {
          "base_uri": "https://localhost:8080/"
        },
        "outputId": "b49451e7-da2f-4167-f39b-a2ee96bf3fb1"
      },
      "outputs": [
        {
          "output_type": "stream",
          "name": "stdout",
          "text": [
            "\u001b[1G\u001b[0K⠙\u001b[1G\u001b[0K⠹\n",
            "Collecting usage statistics. To deactivate, set browser.gatherUsageStats to false.\n",
            "\u001b[0m\n",
            "\u001b[1G\u001b[0K⠸\u001b[1G\u001b[0K⠼\u001b[1G\u001b[0K⠴\u001b[1G\u001b[0K⠦\u001b[1G\u001b[0K⠧\u001b[1G\u001b[0K⠇\u001b[1G\u001b[0K⠏\u001b[1G\u001b[0K⠋\u001b[1G\u001b[0K⠙\u001b[1G\u001b[0K⠹\u001b[1G\u001b[0K\u001b[1G\u001b[0JNeed to install the following packages:\n",
            "localtunnel@2.0.2\n",
            "Ok to proceed? (y) \u001b[20G\u001b[0m\n",
            "\u001b[34m\u001b[1m  You can now view your Streamlit app in your browser.\u001b[0m\n",
            "\u001b[0m\n",
            "\u001b[34m  Local URL: \u001b[0m\u001b[1mhttp://localhost:8501\u001b[0m\n",
            "\u001b[34m  Network URL: \u001b[0m\u001b[1mhttp://172.28.0.12:8501\u001b[0m\n",
            "\u001b[34m  External URL: \u001b[0m\u001b[1mhttp://34.106.68.28:8501\u001b[0m\n",
            "\u001b[0m\n"
          ]
        }
      ],
      "source": [
        "!streamlit run app.py & npx localtunnel --port 8501"
      ]
    },
    {
      "cell_type": "code",
      "execution_count": null,
      "metadata": {
        "id": "7TTXFygLX77S"
      },
      "outputs": [],
      "source": []
    }
  ],
  "metadata": {
    "colab": {
      "provenance": []
    },
    "kernelspec": {
      "display_name": "Python 3",
      "name": "python3"
    },
    "language_info": {
      "name": "python"
    }
  },
  "nbformat": 4,
  "nbformat_minor": 0
}